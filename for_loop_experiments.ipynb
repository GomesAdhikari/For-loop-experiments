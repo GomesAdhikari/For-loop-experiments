{
  "nbformat": 4,
  "nbformat_minor": 0,
  "metadata": {
    "colab": {
      "provenance": [],
      "authorship_tag": "ABX9TyPCrViE8fJRkSKK60S6jjMc",
      "include_colab_link": true
    },
    "kernelspec": {
      "name": "python3",
      "display_name": "Python 3"
    },
    "language_info": {
      "name": "python"
    }
  },
  "cells": [
    {
      "cell_type": "markdown",
      "metadata": {
        "id": "view-in-github",
        "colab_type": "text"
      },
      "source": [
        "<a href=\"https://colab.research.google.com/github/GomesAdhikari/For-loop-experiments/blob/main/for_loop_experiments.ipynb\" target=\"_parent\"><img src=\"https://colab.research.google.com/assets/colab-badge.svg\" alt=\"Open In Colab\"/></a>"
      ]
    },
    {
      "cell_type": "code",
      "execution_count": 1,
      "metadata": {
        "colab": {
          "base_uri": "https://localhost:8080/"
        },
        "id": "4QA-pt2vC38b",
        "outputId": "ca753b4e-2a8e-4b55-975e-475397fa2591"
      },
      "outputs": [
        {
          "output_type": "stream",
          "name": "stdout",
          "text": [
            " ****************\n",
            "  **************\n",
            "   ************\n",
            "    **********\n",
            "     ********\n",
            "      ******\n",
            "       ****\n",
            "        **\n"
          ]
        }
      ],
      "source": [
        "n = 8\n",
        "for i in range(n):\n",
        "    print(' '*i,'*'*(n*2))\n",
        "    n-=1"
      ]
    },
    {
      "cell_type": "code",
      "source": [
        "n = 8\n",
        "for i in reversed(range(n)):\n",
        "    print(' '*i,'*'*(n-i))\n",
        "    n+=1"
      ],
      "metadata": {
        "colab": {
          "base_uri": "https://localhost:8080/"
        },
        "id": "NLRUiJSnC42S",
        "outputId": "4850f419-db15-4987-c008-b65c51328c20"
      },
      "execution_count": 2,
      "outputs": [
        {
          "output_type": "stream",
          "name": "stdout",
          "text": [
            "        *\n",
            "       ***\n",
            "      *****\n",
            "     *******\n",
            "    *********\n",
            "   ***********\n",
            "  *************\n",
            " ***************\n"
          ]
        }
      ]
    },
    {
      "cell_type": "code",
      "source": [
        "n = 8\n",
        "for i in range(n):\n",
        "    print(' '*i,'*'*((n*2)-1))\n",
        "    n-=1"
      ],
      "metadata": {
        "colab": {
          "base_uri": "https://localhost:8080/"
        },
        "id": "_t917EKpC-Ao",
        "outputId": "9a11d2b8-4836-46c9-873b-24d585b15a35"
      },
      "execution_count": 3,
      "outputs": [
        {
          "output_type": "stream",
          "name": "stdout",
          "text": [
            " ***************\n",
            "  *************\n",
            "   ***********\n",
            "    *********\n",
            "     *******\n",
            "      *****\n",
            "       ***\n",
            "        *\n"
          ]
        }
      ]
    },
    {
      "cell_type": "code",
      "source": [
        "n = 8\n",
        "for i in reversed(range(n)):\n",
        "    print(' '*i,'*'*(n-i))\n",
        "    n+=1\n",
        "n = 8\n",
        "for i in range(n):\n",
        "    print(' '*i,'*'*((n*2)-1))\n",
        "    n-=1"
      ],
      "metadata": {
        "colab": {
          "base_uri": "https://localhost:8080/"
        },
        "id": "a5maSJ6XC-lu",
        "outputId": "6a07227c-0cde-492f-a540-318f5ec713d4"
      },
      "execution_count": 4,
      "outputs": [
        {
          "output_type": "stream",
          "name": "stdout",
          "text": [
            "        *\n",
            "       ***\n",
            "      *****\n",
            "     *******\n",
            "    *********\n",
            "   ***********\n",
            "  *************\n",
            " ***************\n",
            " ***************\n",
            "  *************\n",
            "   ***********\n",
            "    *********\n",
            "     *******\n",
            "      *****\n",
            "       ***\n",
            "        *\n"
          ]
        }
      ]
    },
    {
      "cell_type": "code",
      "source": [
        "n = 12\n",
        "x=n\n",
        "for i in range(n):\n",
        "    print(' '*i,'*',' '*(n+(x-2)),'*')\n",
        "    n-=2\n"
      ],
      "metadata": {
        "colab": {
          "base_uri": "https://localhost:8080/"
        },
        "id": "hj6ljS5gDAuk",
        "outputId": "f5ef0707-afd2-490b-cb6c-4f52fcc88c26"
      },
      "execution_count": 5,
      "outputs": [
        {
          "output_type": "stream",
          "name": "stdout",
          "text": [
            " *                        *\n",
            "  *                      *\n",
            "   *                    *\n",
            "    *                  *\n",
            "     *                *\n",
            "      *              *\n",
            "       *            *\n",
            "        *          *\n",
            "         *        *\n",
            "          *      *\n",
            "           *    *\n",
            "            *  *\n"
          ]
        }
      ]
    },
    {
      "cell_type": "code",
      "source": [
        "n = 12\n",
        "x=n\n",
        "for i in reversed(range(n)):\n",
        "    print(' '*i,'*',' '*(n-(i+1)),'*')\n",
        "    n+=1\n",
        "n = 12\n",
        "x=n\n",
        "for i in range(n):\n",
        "    print(' '*i,'*',' '*(n+(x-2)),'*')\n",
        "    n-=2"
      ],
      "metadata": {
        "colab": {
          "base_uri": "https://localhost:8080/"
        },
        "id": "Baf40MFUDDEM",
        "outputId": "366af915-d8a2-4d3f-823b-cd95d78b1771"
      },
      "execution_count": 6,
      "outputs": [
        {
          "output_type": "stream",
          "name": "stdout",
          "text": [
            "            *  *\n",
            "           *    *\n",
            "          *      *\n",
            "         *        *\n",
            "        *          *\n",
            "       *            *\n",
            "      *              *\n",
            "     *                *\n",
            "    *                  *\n",
            "   *                    *\n",
            "  *                      *\n",
            " *                        *\n",
            " *                        *\n",
            "  *                      *\n",
            "   *                    *\n",
            "    *                  *\n",
            "     *                *\n",
            "      *              *\n",
            "       *            *\n",
            "        *          *\n",
            "         *        *\n",
            "          *      *\n",
            "           *    *\n",
            "            *  *\n"
          ]
        }
      ]
    },
    {
      "cell_type": "code",
      "source": [
        "list1 = [1,2,3,4,1,0]\n",
        "for i in list1:\n",
        "    print(i)\n",
        "    if i == 4:\n",
        "        break\n",
        "else:\n",
        "    print('hey')"
      ],
      "metadata": {
        "colab": {
          "base_uri": "https://localhost:8080/"
        },
        "id": "19SZMG5fDFO4",
        "outputId": "0dd6be9f-e580-4c38-cb3b-3e38157bbe6a"
      },
      "execution_count": 7,
      "outputs": [
        {
          "output_type": "stream",
          "name": "stdout",
          "text": [
            "1\n",
            "2\n",
            "3\n",
            "4\n"
          ]
        }
      ]
    },
    {
      "cell_type": "code",
      "source": [
        "x = int(input('Enter number'))\n",
        "for i in range(x):\n",
        "    print('*'*2,end = '')"
      ],
      "metadata": {
        "colab": {
          "base_uri": "https://localhost:8080/"
        },
        "id": "KIwYqQhcDIMz",
        "outputId": "9a13a3ae-8931-4a28-a00a-a8864eec8d4b"
      },
      "execution_count": 8,
      "outputs": [
        {
          "output_type": "stream",
          "name": "stdout",
          "text": [
            "Enter number2\n",
            "****"
          ]
        }
      ]
    },
    {
      "cell_type": "code",
      "source": [
        "for x in range(0,7,2):\n",
        "    n = x\n",
        "    for i in reversed(range(n)):\n",
        "        print(' '*(i+(x-i)),'*'*(n-i))\n",
        "        n+=1"
      ],
      "metadata": {
        "colab": {
          "base_uri": "https://localhost:8080/"
        },
        "id": "Wnujtq-GDJsE",
        "outputId": "ad0e3394-588f-4d7a-b5b1-3200cf839c15"
      },
      "execution_count": 10,
      "outputs": [
        {
          "output_type": "stream",
          "name": "stdout",
          "text": [
            "   *\n",
            "   ***\n",
            "     *\n",
            "     ***\n",
            "     *****\n",
            "     *******\n",
            "       *\n",
            "       ***\n",
            "       *****\n",
            "       *******\n",
            "       *********\n",
            "       ***********\n"
          ]
        }
      ]
    },
    {
      "cell_type": "code",
      "source": [],
      "metadata": {
        "id": "lOkL4zZhDMMO"
      },
      "execution_count": null,
      "outputs": []
    }
  ]
}